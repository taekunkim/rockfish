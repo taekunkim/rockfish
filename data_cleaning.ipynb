{
 "cells": [
  {
   "cell_type": "code",
   "execution_count": 1,
   "metadata": {},
   "outputs": [],
   "source": [
    "# import libraries\n",
    "import pandas as pd\n",
    "\n",
    "# change settings to see all columns\n",
    "pd.set_option('display.max_columns', None)"
   ]
  },
  {
   "cell_type": "markdown",
   "metadata": {},
   "source": [
    "# Clean species collection dataset"
   ]
  },
  {
   "cell_type": "markdown",
   "metadata": {},
   "source": [
    "### Read file"
   ]
  },
  {
   "cell_type": "code",
   "execution_count": 2,
   "metadata": {},
   "outputs": [],
   "source": [
    "species = pd.read_csv('species.csv')"
   ]
  },
  {
   "cell_type": "markdown",
   "metadata": {},
   "source": [
    "### Five categories of species"
   ]
  },
  {
   "cell_type": "markdown",
   "metadata": {},
   "source": [
    "We are categorizing species into five types.  \n",
    "Not all species listed below may be found in the CSV file to be read.  \n",
    "  \n",
    "The species types are from table 5 of 464_longterm_trends.pdf"
   ]
  },
  {
   "cell_type": "code",
   "execution_count": 3,
   "metadata": {},
   "outputs": [],
   "source": [
    "# species type categories\n",
    "oceanic = ['Aristostomias scintillans', 'Bathylagus ochotensis', 'Bathylagus pacificus', 'Bathylagus wesethi', 'Ceratoscopelus townsendi', 'Chauliodus macouni', 'Chiasmodon niger', 'Cyclothone spp.', 'Diaphus theta', 'Diogenichthys atlanticus', 'Hygophum reinhardtii', 'Idiacanthus antrostomus', 'Melamphaes spp.', 'Microstoma spp.', 'Myctophidae', 'Myctophum nitidulum', 'Nannobrachium spp.', 'Nansenia candida', 'Notolychnus valdiviae', 'Notoscopelus resplendens', 'Paralepididae', 'Poromitra spp.', 'Protomyctophum crockeri', 'Scopelarchidae', 'Scopelogadus bispinosus', 'Scopelosaurus spp.', 'Stenobrachius leucopsarus', 'Sternoptychidae', 'Stomias atriventer', 'Symbolophorus californiensis', 'Tactostoma macropus', 'Tarletonbeania crenularis', 'Triphoturus mexicanus', 'Vinciguerria lucetia']\n",
    "coastal_oceanic_fished = ['Engraulis mordax', 'Merluccius productus', 'Sardinops sagax', 'Scomber japonicus', 'Trachurus symmetricus', 'Cololabis saira', 'Icichthys lockingtoni', 'Leuroglossus stilbius', 'Tetragonurus cuvieri', 'Trachipterus altivelis']\n",
    "coastal_fished = ['Microstomus pacificus', 'Paralabrax spp.','Paralichthys californicus', 'Parophrys vetulus', 'Sciaenidae', 'Scorpaenichthys marmoratus', 'Sebastes aurora', 'Sebastes paucispinis', 'Sebastes spp.', 'Sebastolobus spp.', 'Sphyraena argentea']\n",
    "coastal_bycatch = ['Agonidae', 'Chromis punctipinnis', 'Hippoglossina stomata', 'Lyopsetta exilis', 'Pleuronichthys verticalis',  'Sebastes jordani', 'Symphurus atricaudus', 'Zaniolepisspp.']\n",
    "coastal_unfished = ['Argentina sialis', 'Hypsoblennius spp.', 'Ophidion scrippsae', 'Oxylebius pictus']\n",
    "\n",
    "species_types = [oceanic, coastal_oceanic_fished, coastal_fished, coastal_bycatch, coastal_unfished]\n",
    "species_types_str = ['oceanic', 'coastal_oceanic_fished', 'coastal_fished', 'coastal_bycatch', 'coastal_unfished']"
   ]
  },
  {
   "cell_type": "markdown",
   "metadata": {},
   "source": [
    "### Dictionary of categories"
   ]
  },
  {
   "cell_type": "markdown",
   "metadata": {},
   "source": [
    "Create a dictionary of species:  \n",
    "&nbsp;&nbsp;&nbsp;&nbsp;&nbsp;&nbsp;key = name of the species type  \n",
    "&nbsp;&nbsp;&nbsp;&nbsp;&nbsp;&nbsp;value = a list of all species corresponding to key.  \n",
    "  \n",
    "Only species found in the CSV file are added to the dictionary."
   ]
  },
  {
   "cell_type": "code",
   "execution_count": 4,
   "metadata": {},
   "outputs": [],
   "source": [
    "existing_types = [] # append with lists which correspond spcies that are found in the table\n",
    "\n",
    "for each_type in species_types:\n",
    "    existing_species = []\n",
    "    for each_species in each_type:\n",
    "        col_name = each_species.replace(' ', '.') # change species name to fit the column style (ie Aristostomias scintillans => Aristostomias.scintillans)\n",
    "        if col_name in species.columns: # check if species exists in table\n",
    "            existing_species.append(col_name) \n",
    "    existing_types.append(existing_species)\n",
    "    \n",
    "\n",
    "# convert existing_types list to dictionary\n",
    "species_types_dict = dict()\n",
    "\n",
    "for species_type, species_type_str in zip(existing_types, species_types_str):\n",
    "    species_types_dict[species_type_str] = species_type"
   ]
  },
  {
   "cell_type": "markdown",
   "metadata": {},
   "source": [
    "### Drop all columns that do not fit into a species type"
   ]
  },
  {
   "cell_type": "markdown",
   "metadata": {},
   "source": [
    "If a speices in the CSV file is not found in any one of the five categories above, then remove the species column from the CSV file.  \n",
    "Keep all non-species columns necessary for future data cleaning."
   ]
  },
  {
   "cell_type": "code",
   "execution_count": 5,
   "metadata": {},
   "outputs": [],
   "source": [
    "# non-species columns to keep\n",
    "species_cols = ['S_L', 'S_S', 'year', 'season']\n",
    "\n",
    "# append species_cols with species columns to keep\n",
    "for species_type in species_types_dict.values():\n",
    "    for species_name in species_type:\n",
    "        species_cols.append(species_name)\n",
    "        \n",
    "# drop all columns not in the list species_cols\n",
    "species = species[species_cols]"
   ]
  },
  {
   "cell_type": "markdown",
   "metadata": {},
   "source": [
    "### Sum up populations of all species, for each species type"
   ]
  },
  {
   "cell_type": "markdown",
   "metadata": {},
   "source": [
    "Create a column for each species type.  \n",
    "Record the total count of all species that fall into the species type."
   ]
  },
  {
   "cell_type": "code",
   "execution_count": 6,
   "metadata": {
    "scrolled": true
   },
   "outputs": [],
   "source": [
    "for species_type_name, species_lst in species_types_dict.items():\n",
    "    species[species_type_name] = species.loc[:, species_lst].sum(axis=1)\n",
    "    species.drop(columns=species_lst, inplace=True)"
   ]
  },
  {
   "cell_type": "markdown",
   "metadata": {},
   "source": [
    "### Create a column of station ID"
   ]
  },
  {
   "cell_type": "markdown",
   "metadata": {},
   "source": [
    "Station IDs show at what station (longitude, latitude) each row was recorded."
   ]
  },
  {
   "cell_type": "markdown",
   "metadata": {},
   "source": [
    "#### ⚠️ Some stations have multiple longitude/latitude values. We are using the most recent longitude/latitude values recorded for every station."
   ]
  },
  {
   "cell_type": "code",
   "execution_count": 7,
   "metadata": {
    "scrolled": true
   },
   "outputs": [],
   "source": [
    "# change season to quarter\n",
    "def season_to_quarter(season):\n",
    "    if season == 'winter':\n",
    "        return '1'\n",
    "    if season == 'spring':\n",
    "        return '2'\n",
    "    if season == 'summer':\n",
    "        return '3'\n",
    "    if season == 'fall':\n",
    "        return '4'\n",
    "    \n",
    "species['quarter'] = species['season'].apply(season_to_quarter)\n",
    "species.drop(columns=['season'], inplace=True)\n",
    "\n",
    "# change year/season to quarter\n",
    "species['year'] = species['year'].astype(str)\n",
    "species['quarter'] = species['year'] + ' ' + species['quarter']\n",
    "species.drop(columns=['year'], inplace=True)\n",
    "\n",
    "# create Sta_ID_x column to merge datasets on\n",
    "species['S_L'] = species['S_L'].astype(str)\n",
    "species['S_S'] = species['S_S'].astype(str)\n",
    "\n",
    "species['S_L'] = species['S_L'].apply(lambda x: x.zfill(5))\n",
    "species['S_S'] = species['S_S'].apply(lambda x: x.zfill(5))\n",
    "\n",
    "species['station'] = species['S_L'] + \" \" + species['S_S']\n",
    "species.drop(columns=['S_L', 'S_S'], inplace=True)\n",
    "\n",
    "# rearrange column orders\n",
    "species = species[['quarter', 'station', 'oceanic', 'coastal_oceanic_fished', 'coastal_fished', 'coastal_bycatch', 'coastal_unfished']]"
   ]
  },
  {
   "cell_type": "markdown",
   "metadata": {},
   "source": [
    "# Clean station dataset"
   ]
  },
  {
   "cell_type": "code",
   "execution_count": 9,
   "metadata": {},
   "outputs": [
    {
     "name": "stderr",
     "output_type": "stream",
     "text": [
      "/Users/taekunkim/opt/anaconda3/lib/python3.7/site-packages/IPython/core/interactiveshell.py:3058: DtypeWarning: Columns (47,61) have mixed types. Specify dtype option on import or set low_memory=False.\n",
      "  interactivity=interactivity, compiler=compiler, result=result)\n",
      "/Users/taekunkim/opt/anaconda3/lib/python3.7/site-packages/IPython/core/interactiveshell.py:3058: DtypeWarning: Columns (40,41,44,45,46,47) have mixed types. Specify dtype option on import or set low_memory=False.\n",
      "  interactivity=interactivity, compiler=compiler, result=result)\n"
     ]
    }
   ],
   "source": [
    "# read files\n",
    "bottle = pd.read_csv('bottle.csv', encoding='latin')\n",
    "cast = pd.read_csv('cast.csv', encoding='latin')\n",
    "\n",
    "# drop columns\n",
    "cast_cols = ['Cast_ID', 'Lat_Dec', 'Lon_Dec', 'Quarter', 'Year']\n",
    "bottle_cols = ['Sta_ID', 'Depth_ID', 'T_degC', 'Depthm']\n",
    "\n",
    "cast = cast[cast_cols]\n",
    "bottle = bottle[bottle_cols] "
   ]
  },
  {
   "cell_type": "code",
   "execution_count": 11,
   "metadata": {},
   "outputs": [],
   "source": [
    "# merge cast and bottle dataframes\n",
    "bottle['Cast_ID'] = bottle['Depth_ID'].apply(lambda x: x[:-8])\n",
    "station = bottle.merge(cast, on='Cast_ID')\n",
    "station.drop(columns=['Depth_ID', 'Cast_ID'], inplace=True)\n",
    "\n",
    "# create quarter column\n",
    "station['Year'] = station['Year'].astype(str)\n",
    "station['Quarter'] = station['Quarter'].astype(str)\n",
    "\n",
    "station['quarter'] = station['Year'] + ' ' + station['Quarter']\n",
    "\n",
    "station.drop(columns=['Year', 'Quarter'], inplace=True)\n",
    "\n",
    "# change comlumn name\n",
    "station.rename(columns={'T_degC': 'Temperature',\n",
    "                        'Lat_Dec': 'Latitude',\n",
    "                        'Lon_Dec': 'Longitude'}, inplace=True)"
   ]
  },
  {
   "cell_type": "code",
   "execution_count": 13,
   "metadata": {},
   "outputs": [],
   "source": [
    "# take the mean temperature measured from <100m\n",
    "station = station.sort_values(['quarter', 'Sta_ID', 'Depthm'], ascending=True)\n",
    "station = station[station['Depthm']<=100]\n",
    "station = station.groupby(['quarter', 'Sta_ID'], as_index=False).agg({'Longitude': 'last', 'Latitude': 'last','Temperature': ['mean', 'std'], 'Depthm': ['mean', 'std']})\n",
    "station.columns = ['quarter', 'station','longitude','latitude','temperature_mean','temperature_std', 'depth_mean', 'depth_std']"
   ]
  },
  {
   "cell_type": "markdown",
   "metadata": {},
   "source": [
    "# Merge species and station datasets"
   ]
  },
  {
   "cell_type": "code",
   "execution_count": 14,
   "metadata": {},
   "outputs": [],
   "source": [
    "# merge rockfish and station dataframe\n",
    "data = species.merge(station, how='left', on=['station', 'quarter'])"
   ]
  },
  {
   "cell_type": "code",
   "execution_count": 15,
   "metadata": {},
   "outputs": [],
   "source": [
    "# split year and quarter\n",
    "data['year'] = data['quarter'].apply(lambda x: int(x[:4]))\n",
    "data['quarter'] = data['quarter'].apply(lambda x: x[5])\n",
    "\n",
    "# rearrange column orders\n",
    "data = data[['year', 'quarter', 'station', 'temperature_mean', 'temperature_std', 'depth_mean', 'depth_std', 'oceanic', 'coastal_oceanic_fished', 'coastal_fished', 'coastal_bycatch', 'coastal_unfished', 'longitude', 'latitude']]\n",
    "\n",
    "# sort table\n",
    "data.sort_values(['year', 'quarter', 'station'], ascending=True, inplace=True)\n",
    "data.reset_index(drop=True, inplace=True)\n",
    "\n",
    "# export file\n",
    "data.to_csv('data.csv', index=False)\n",
    "data.to_json('data.json')"
   ]
  },
  {
   "cell_type": "code",
   "execution_count": 27,
   "metadata": {},
   "outputs": [],
   "source": [
    "temp = data[data['year']==1960]\n",
    "# temp[temp['quarter']==3]"
   ]
  },
  {
   "cell_type": "code",
   "execution_count": 28,
   "metadata": {},
   "outputs": [],
   "source": [
    "temp = temp[temp['quarter']=='1'].reset_index(drop=True)\n",
    "temp = temp[temp['latitude'].notna()]\n",
    "temp = temp[temp['longitude'].notna()]\n",
    "temp.to_csv('1960.csv', index=False)"
   ]
  },
  {
   "cell_type": "code",
   "execution_count": null,
   "metadata": {},
   "outputs": [],
   "source": []
  }
 ],
 "metadata": {
  "kernelspec": {
   "display_name": "Python 3",
   "language": "python",
   "name": "python3"
  },
  "language_info": {
   "codemirror_mode": {
    "name": "ipython",
    "version": 3
   },
   "file_extension": ".py",
   "mimetype": "text/x-python",
   "name": "python",
   "nbconvert_exporter": "python",
   "pygments_lexer": "ipython3",
   "version": "3.7.4"
  }
 },
 "nbformat": 4,
 "nbformat_minor": 2
}
