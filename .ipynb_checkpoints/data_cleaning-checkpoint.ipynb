{
 "cells": [
  {
   "cell_type": "code",
   "execution_count": 1,
   "metadata": {},
   "outputs": [],
   "source": [
    "# import libraries\n",
    "import pandas as pd\n",
    "\n",
    "# change settings to see all columns\n",
    "pd.set_option('display.max_columns', None)"
   ]
  },
  {
   "cell_type": "markdown",
   "metadata": {},
   "source": [
    "# Clean species collection dataset"
   ]
  },
  {
   "cell_type": "markdown",
   "metadata": {},
   "source": [
    "### Read file"
   ]
  },
  {
   "cell_type": "code",
   "execution_count": 2,
   "metadata": {},
   "outputs": [],
   "source": [
    "species = pd.read_csv('species.csv')"
   ]
  },
  {
   "cell_type": "markdown",
   "metadata": {},
   "source": [
    "### Five categories of species"
   ]
  },
  {
   "cell_type": "markdown",
   "metadata": {},
   "source": [
    "We are categorizing species into five types.  \n",
    "Not all species listed below may be found in the CSV file to be read.  \n",
    "  \n",
    "The species types are from table 5 of 464_longterm_trends.pdf"
   ]
  },
  {
   "cell_type": "code",
   "execution_count": 3,
   "metadata": {},
   "outputs": [],
   "source": [
    "# species type categories\n",
    "oceanic = ['Aristostomias scintillans', 'Bathylagus ochotensis', 'Bathylagus pacificus', 'Bathylagus wesethi', 'Ceratoscopelus townsendi', 'Chauliodus macouni', 'Chiasmodon niger', 'Cyclothone spp.', 'Diaphus theta', 'Diogenichthys atlanticus', 'Hygophum reinhardtii', 'Idiacanthus antrostomus', 'Melamphaes spp.', 'Microstoma spp.', 'Myctophidae', 'Myctophum nitidulum', 'Nannobrachium spp.', 'Nansenia candida', 'Notolychnus valdiviae', 'Notoscopelus resplendens', 'Paralepididae', 'Poromitra spp.', 'Protomyctophum crockeri', 'Scopelarchidae', 'Scopelogadus bispinosus', 'Scopelosaurus spp.', 'Stenobrachius leucopsarus', 'Sternoptychidae', 'Stomias atriventer', 'Symbolophorus californiensis', 'Tactostoma macropus', 'Tarletonbeania crenularis', 'Triphoturus mexicanus', 'Vinciguerria lucetia']\n",
    "coastal_oceanic_fished = ['Engraulis mordax', 'Merluccius productus', 'Sardinops sagax', 'Scomber japonicus', 'Trachurus symmetricus', 'Cololabis saira', 'Icichthys lockingtoni', 'Leuroglossus stilbius', 'Tetragonurus cuvieri', 'Trachipterus altivelis']\n",
    "coastal_fished = ['Microstomus pacificus', 'Paralabrax spp.','Paralichthys californicus', 'Parophrys vetulus', 'Sciaenidae', 'Scorpaenichthys marmoratus', 'Sebastes aurora', 'Sebastes paucispinis', 'Sebastes spp.', 'Sebastolobus spp.', 'Sphyraena argentea']\n",
    "coastal_bycatch = ['Agonidae', 'Chromis punctipinnis', 'Hippoglossina stomata', 'Lyopsetta exilis', 'Pleuronichthys verticalis',  'Sebastes jordani', 'Symphurus atricaudus', 'Zaniolepisspp.']\n",
    "coastal_unfished = ['Argentina sialis', 'Hypsoblennius spp.', 'Ophidion scrippsae', 'Oxylebius pictus']\n",
    "\n",
    "species_types = [oceanic, coastal_oceanic_fished, coastal_fished, coastal_bycatch, coastal_unfished]\n",
    "species_types_str = ['oceanic', 'coastal_oceanic_fished', 'coastal_fished', 'coastal_bycatch', 'coastal_unfished']"
   ]
  },
  {
   "cell_type": "markdown",
   "metadata": {},
   "source": [
    "### Dictionary of categories"
   ]
  },
  {
   "cell_type": "markdown",
   "metadata": {},
   "source": [
    "Create a dictionary of species:  \n",
    "&nbsp;&nbsp;&nbsp;&nbsp;&nbsp;&nbsp;key = name of the species type  \n",
    "&nbsp;&nbsp;&nbsp;&nbsp;&nbsp;&nbsp;value = a list of all species corresponding to key.  \n",
    "  \n",
    "Only species found in the CSV file are added to the dictionary."
   ]
  },
  {
   "cell_type": "code",
   "execution_count": 4,
   "metadata": {},
   "outputs": [],
   "source": [
    "existing_types = [] # append with lists which correspond spcies that are found in the table\n",
    "\n",
    "for each_type in species_types:\n",
    "    existing_species = []\n",
    "    for each_species in each_type:\n",
    "        col_name = each_species.replace(' ', '.') # change species name to fit the column style (ie Aristostomias scintillans => Aristostomias.scintillans)\n",
    "        if col_name in species.columns: # check if species exists in table\n",
    "            existing_species.append(col_name) \n",
    "    existing_types.append(existing_species)\n",
    "    \n",
    "\n",
    "# convert existing_types list to dictionary\n",
    "species_types_dict = dict()\n",
    "\n",
    "for species_type, species_type_str in zip(existing_types, species_types_str):\n",
    "    species_types_dict[species_type_str] = species_type"
   ]
  },
  {
   "cell_type": "markdown",
   "metadata": {},
   "source": [
    "### Drop all columns that do not fit into a species type"
   ]
  },
  {
   "cell_type": "markdown",
   "metadata": {},
   "source": [
    "If a speices in the CSV file is not found in any one of the five categories above, then remove the species column from the CSV file.  \n",
    "Keep all non-species columns necessary for future data cleaning."
   ]
  },
  {
   "cell_type": "code",
   "execution_count": 5,
   "metadata": {},
   "outputs": [],
   "source": [
    "# non-species columns to keep\n",
    "species_cols = ['S_L', 'S_S', 'year', 'season']\n",
    "\n",
    "# append species_cols with species columns to keep\n",
    "for species_type in species_types_dict.values():\n",
    "    for species_name in species_type:\n",
    "        species_cols.append(species_name)\n",
    "        \n",
    "# drop all columns not in the list species_cols\n",
    "species = species[species_cols]"
   ]
  },
  {
   "cell_type": "markdown",
   "metadata": {},
   "source": [
    "### Sum up populations of all species, for each species type"
   ]
  },
  {
   "cell_type": "markdown",
   "metadata": {},
   "source": [
    "Create a column for each species type.  \n",
    "Record the total count of all species that fall into the species type."
   ]
  },
  {
   "cell_type": "code",
   "execution_count": 6,
   "metadata": {
    "scrolled": true
   },
   "outputs": [],
   "source": [
    "for species_type_name, species_lst in species_types_dict.items():\n",
    "    species[species_type_name] = species.loc[:, species_lst].sum(axis=1)\n",
    "    species.drop(columns=species_lst, inplace=True)"
   ]
  },
  {
   "cell_type": "markdown",
   "metadata": {},
   "source": [
    "### Create a column of station ID"
   ]
  },
  {
   "cell_type": "markdown",
   "metadata": {},
   "source": [
    "Station IDs show at what station (longitude, latitude) each row was recorded."
   ]
  },
  {
   "cell_type": "markdown",
   "metadata": {},
   "source": [
    "#### ⚠️ Some stations have multiple longitude/latitude values. We are using the most recent longitude/latitude values recorded for every station."
   ]
  },
  {
   "cell_type": "code",
   "execution_count": 7,
   "metadata": {
    "scrolled": true
   },
   "outputs": [],
   "source": [
    "# change season to quarter\n",
    "def season_to_quarter(season):\n",
    "    if season == 'winter':\n",
    "        return '1'\n",
    "    if season == 'spring':\n",
    "        return '2'\n",
    "    if season == 'summer':\n",
    "        return '3'\n",
    "    if season == 'fall':\n",
    "        return '4'\n",
    "    \n",
    "species['quarter'] = species['season'].apply(season_to_quarter)\n",
    "species.drop(columns=['season'], inplace=True)\n",
    "\n",
    "# change year/season to quarter\n",
    "species['year'] = species['year'].astype(str)\n",
    "species['quarter'] = species['year'] + ' ' + species['quarter']\n",
    "species.drop(columns=['year'], inplace=True)\n",
    "\n",
    "# create Sta_ID_x column to merge datasets on\n",
    "species['S_L'] = species['S_L'].astype(str)\n",
    "species['S_S'] = species['S_S'].astype(str)\n",
    "\n",
    "species['S_L'] = species['S_L'].apply(lambda x: x.zfill(5))\n",
    "species['S_S'] = species['S_S'].apply(lambda x: x.zfill(5))\n",
    "\n",
    "species['station'] = species['S_L'] + \" \" + species['S_S']\n",
    "species.drop(columns=['S_L', 'S_S'], inplace=True)\n",
    "\n",
    "# rearrange column orders\n",
    "species = species[['quarter', 'station', 'oceanic', 'coastal_oceanic_fished', 'coastal_fished', 'coastal_bycatch', 'coastal_unfished']]"
   ]
  },
  {
   "cell_type": "markdown",
   "metadata": {},
   "source": [
    "# Clean station dataset"
   ]
  },
  {
   "cell_type": "code",
   "execution_count": 9,
   "metadata": {},
   "outputs": [
    {
     "name": "stderr",
     "output_type": "stream",
     "text": [
      "/Users/taekunkim/opt/anaconda3/lib/python3.7/site-packages/IPython/core/interactiveshell.py:3058: DtypeWarning: Columns (47,61) have mixed types. Specify dtype option on import or set low_memory=False.\n",
      "  interactivity=interactivity, compiler=compiler, result=result)\n",
      "/Users/taekunkim/opt/anaconda3/lib/python3.7/site-packages/IPython/core/interactiveshell.py:3058: DtypeWarning: Columns (40,41,44,45,46,47) have mixed types. Specify dtype option on import or set low_memory=False.\n",
      "  interactivity=interactivity, compiler=compiler, result=result)\n"
     ]
    }
   ],
   "source": [
    "# read files\n",
    "bottle = pd.read_csv('bottle.csv', encoding='latin')\n",
    "cast = pd.read_csv('cast.csv', encoding='latin')\n",
    "\n",
    "# drop columns\n",
    "cast_cols = ['Cast_ID', 'Lat_Dec', 'Lon_Dec', 'Quarter', 'Year']\n",
    "bottle_cols = ['Sta_ID', 'Depth_ID', 'T_degC', 'Depthm']\n",
    "\n",
    "cast = cast[cast_cols]\n",
    "bottle = bottle[bottle_cols] "
   ]
  },
  {
   "cell_type": "code",
   "execution_count": 11,
   "metadata": {},
   "outputs": [],
   "source": [
    "# merge cast and bottle dataframes\n",
    "bottle['Cast_ID'] = bottle['Depth_ID'].apply(lambda x: x[:-8])\n",
    "station = bottle.merge(cast, on='Cast_ID')\n",
    "station.drop(columns=['Depth_ID', 'Cast_ID'], inplace=True)\n",
    "\n",
    "# create quarter column\n",
    "station['Year'] = station['Year'].astype(str)\n",
    "station['Quarter'] = station['Quarter'].astype(str)\n",
    "\n",
    "station['quarter'] = station['Year'] + ' ' + station['Quarter']\n",
    "\n",
    "station.drop(columns=['Year', 'Quarter'], inplace=True)\n",
    "\n",
    "# change comlumn name\n",
    "station.rename(columns={'T_degC': 'Temperature',\n",
    "                        'Lat_Dec': 'Latitude',\n",
    "                        'Lon_Dec': 'Longitude'}, inplace=True)"
   ]
  },
  {
   "cell_type": "code",
   "execution_count": 13,
   "metadata": {},
   "outputs": [],
   "source": [
    "# take the mean temperature measured from <100m\n",
    "station = station.sort_values(['quarter', 'Sta_ID', 'Depthm'], ascending=True)\n",
    "station = station[station['Depthm']<=100]\n",
    "station = station.groupby(['quarter', 'Sta_ID'], as_index=False).agg({'Longitude': 'last', 'Latitude': 'last','Temperature': ['mean', 'std'], 'Depthm': ['mean', 'std']})\n",
    "station.columns = ['quarter', 'station','longitude','latitude','temperature_mean','temperature_std', 'depth_mean', 'depth_std']"
   ]
  },
  {
   "cell_type": "markdown",
   "metadata": {},
   "source": [
    "# Merge species and station datasets"
   ]
  },
  {
   "cell_type": "code",
   "execution_count": 14,
   "metadata": {},
   "outputs": [],
   "source": [
    "# merge rockfish and station dataframe\n",
    "data = species.merge(station, how='left', on=['station', 'quarter'])"
   ]
  },
  {
   "cell_type": "code",
   "execution_count": 15,
   "metadata": {},
   "outputs": [],
   "source": [
    "# split year and quarter\n",
    "data['year'] = data['quarter'].apply(lambda x: int(x[:4]))\n",
    "data['quarter'] = data['quarter'].apply(lambda x: x[5])\n",
    "\n",
    "# rearrange column orders\n",
    "data = data[['year', 'quarter', 'station', 'temperature_mean', 'temperature_std', 'depth_mean', 'depth_std', 'oceanic', 'coastal_oceanic_fished', 'coastal_fished', 'coastal_bycatch', 'coastal_unfished', 'longitude', 'latitude']]\n",
    "\n",
    "# sort table\n",
    "data.sort_values(['year', 'quarter', 'station'], ascending=True, inplace=True)\n",
    "data.reset_index(drop=True, inplace=True)\n",
    "\n",
    "# export file\n",
    "data.to_csv('data.csv', index=False)\n",
    "data.to_json('data.json')"
   ]
  },
  {
   "cell_type": "code",
   "execution_count": 16,
   "metadata": {},
   "outputs": [],
   "source": [
    "temp = data[data['year']==1960]\n",
    "# temp[temp['quarter']==3]"
   ]
  },
  {
   "cell_type": "code",
   "execution_count": 17,
   "metadata": {},
   "outputs": [
    {
     "data": {
      "text/html": [
       "<div>\n",
       "<style scoped>\n",
       "    .dataframe tbody tr th:only-of-type {\n",
       "        vertical-align: middle;\n",
       "    }\n",
       "\n",
       "    .dataframe tbody tr th {\n",
       "        vertical-align: top;\n",
       "    }\n",
       "\n",
       "    .dataframe thead th {\n",
       "        text-align: right;\n",
       "    }\n",
       "</style>\n",
       "<table border=\"1\" class=\"dataframe\">\n",
       "  <thead>\n",
       "    <tr style=\"text-align: right;\">\n",
       "      <th></th>\n",
       "      <th>year</th>\n",
       "      <th>quarter</th>\n",
       "      <th>station</th>\n",
       "      <th>temperature_mean</th>\n",
       "      <th>temperature_std</th>\n",
       "      <th>depth_mean</th>\n",
       "      <th>depth_std</th>\n",
       "      <th>oceanic</th>\n",
       "      <th>coastal_oceanic_fished</th>\n",
       "      <th>coastal_fished</th>\n",
       "      <th>coastal_bycatch</th>\n",
       "      <th>coastal_unfished</th>\n",
       "      <th>longitude</th>\n",
       "      <th>latitude</th>\n",
       "    </tr>\n",
       "  </thead>\n",
       "  <tbody>\n",
       "    <tr>\n",
       "      <td>900</td>\n",
       "      <td>1960</td>\n",
       "      <td>1</td>\n",
       "      <td>076.7 051.0</td>\n",
       "      <td>11.720870</td>\n",
       "      <td>1.428699</td>\n",
       "      <td>40.347826</td>\n",
       "      <td>34.742702</td>\n",
       "      <td>22.00</td>\n",
       "      <td>16.50</td>\n",
       "      <td>0.00</td>\n",
       "      <td>19.25</td>\n",
       "      <td>0.0</td>\n",
       "      <td>-120.941666</td>\n",
       "      <td>35.033333</td>\n",
       "    </tr>\n",
       "    <tr>\n",
       "      <td>901</td>\n",
       "      <td>1960</td>\n",
       "      <td>1</td>\n",
       "      <td>076.7 055.0</td>\n",
       "      <td>12.626364</td>\n",
       "      <td>0.975751</td>\n",
       "      <td>38.727273</td>\n",
       "      <td>34.659132</td>\n",
       "      <td>199.55</td>\n",
       "      <td>49.12</td>\n",
       "      <td>3.07</td>\n",
       "      <td>9.21</td>\n",
       "      <td>0.0</td>\n",
       "      <td>-121.216666</td>\n",
       "      <td>34.908333</td>\n",
       "    </tr>\n",
       "    <tr>\n",
       "      <td>902</td>\n",
       "      <td>1960</td>\n",
       "      <td>1</td>\n",
       "      <td>076.7 060.0</td>\n",
       "      <td>12.571667</td>\n",
       "      <td>1.219416</td>\n",
       "      <td>45.638889</td>\n",
       "      <td>32.800830</td>\n",
       "      <td>13.60</td>\n",
       "      <td>0.00</td>\n",
       "      <td>5.44</td>\n",
       "      <td>0.00</td>\n",
       "      <td>0.0</td>\n",
       "      <td>-121.541666</td>\n",
       "      <td>34.725000</td>\n",
       "    </tr>\n",
       "    <tr>\n",
       "      <td>903</td>\n",
       "      <td>1960</td>\n",
       "      <td>1</td>\n",
       "      <td>076.7 070.0</td>\n",
       "      <td>12.238696</td>\n",
       "      <td>1.324913</td>\n",
       "      <td>45.086957</td>\n",
       "      <td>33.267392</td>\n",
       "      <td>17.95</td>\n",
       "      <td>129.24</td>\n",
       "      <td>0.00</td>\n",
       "      <td>0.00</td>\n",
       "      <td>0.0</td>\n",
       "      <td>-122.266666</td>\n",
       "      <td>34.400000</td>\n",
       "    </tr>\n",
       "    <tr>\n",
       "      <td>904</td>\n",
       "      <td>1960</td>\n",
       "      <td>1</td>\n",
       "      <td>080.0 055.0</td>\n",
       "      <td>12.165185</td>\n",
       "      <td>1.178693</td>\n",
       "      <td>42.555556</td>\n",
       "      <td>33.184025</td>\n",
       "      <td>21.28</td>\n",
       "      <td>212.80</td>\n",
       "      <td>0.00</td>\n",
       "      <td>0.00</td>\n",
       "      <td>0.0</td>\n",
       "      <td>-120.800000</td>\n",
       "      <td>34.316666</td>\n",
       "    </tr>\n",
       "    <tr>\n",
       "      <td>...</td>\n",
       "      <td>...</td>\n",
       "      <td>...</td>\n",
       "      <td>...</td>\n",
       "      <td>...</td>\n",
       "      <td>...</td>\n",
       "      <td>...</td>\n",
       "      <td>...</td>\n",
       "      <td>...</td>\n",
       "      <td>...</td>\n",
       "      <td>...</td>\n",
       "      <td>...</td>\n",
       "      <td>...</td>\n",
       "      <td>...</td>\n",
       "      <td>...</td>\n",
       "    </tr>\n",
       "    <tr>\n",
       "      <td>1063</td>\n",
       "      <td>1960</td>\n",
       "      <td>4</td>\n",
       "      <td>093.3 060.0</td>\n",
       "      <td>15.578182</td>\n",
       "      <td>2.719904</td>\n",
       "      <td>49.545455</td>\n",
       "      <td>33.070723</td>\n",
       "      <td>2.98</td>\n",
       "      <td>0.00</td>\n",
       "      <td>0.00</td>\n",
       "      <td>0.00</td>\n",
       "      <td>0.0</td>\n",
       "      <td>-119.508333</td>\n",
       "      <td>31.866666</td>\n",
       "    </tr>\n",
       "    <tr>\n",
       "      <td>1064</td>\n",
       "      <td>1960</td>\n",
       "      <td>4</td>\n",
       "      <td>093.3 070.0</td>\n",
       "      <td>14.956667</td>\n",
       "      <td>3.244577</td>\n",
       "      <td>46.583333</td>\n",
       "      <td>31.439576</td>\n",
       "      <td>0.00</td>\n",
       "      <td>5.88</td>\n",
       "      <td>0.00</td>\n",
       "      <td>0.00</td>\n",
       "      <td>0.0</td>\n",
       "      <td>-120.483333</td>\n",
       "      <td>31.525000</td>\n",
       "    </tr>\n",
       "    <tr>\n",
       "      <td>1065</td>\n",
       "      <td>1960</td>\n",
       "      <td>4</td>\n",
       "      <td>093.3 080.0</td>\n",
       "      <td>15.363077</td>\n",
       "      <td>3.137306</td>\n",
       "      <td>43.000000</td>\n",
       "      <td>34.689095</td>\n",
       "      <td>6.16</td>\n",
       "      <td>0.00</td>\n",
       "      <td>0.00</td>\n",
       "      <td>0.00</td>\n",
       "      <td>0.0</td>\n",
       "      <td>-121.083333</td>\n",
       "      <td>31.183333</td>\n",
       "    </tr>\n",
       "    <tr>\n",
       "      <td>1066</td>\n",
       "      <td>1960</td>\n",
       "      <td>4</td>\n",
       "      <td>093.3 090.0</td>\n",
       "      <td>16.090000</td>\n",
       "      <td>1.786869</td>\n",
       "      <td>45.461538</td>\n",
       "      <td>35.330854</td>\n",
       "      <td>24.84</td>\n",
       "      <td>0.00</td>\n",
       "      <td>0.00</td>\n",
       "      <td>0.00</td>\n",
       "      <td>0.0</td>\n",
       "      <td>-121.683333</td>\n",
       "      <td>30.833333</td>\n",
       "    </tr>\n",
       "    <tr>\n",
       "      <td>1067</td>\n",
       "      <td>1960</td>\n",
       "      <td>4</td>\n",
       "      <td>093.3 100.0</td>\n",
       "      <td>15.787273</td>\n",
       "      <td>1.662402</td>\n",
       "      <td>54.090909</td>\n",
       "      <td>34.989869</td>\n",
       "      <td>2.92</td>\n",
       "      <td>0.00</td>\n",
       "      <td>0.00</td>\n",
       "      <td>0.00</td>\n",
       "      <td>0.0</td>\n",
       "      <td>-122.316666</td>\n",
       "      <td>30.475000</td>\n",
       "    </tr>\n",
       "  </tbody>\n",
       "</table>\n",
       "<p>168 rows × 14 columns</p>\n",
       "</div>"
      ],
      "text/plain": [
       "      year quarter      station  temperature_mean  temperature_std  \\\n",
       "900   1960       1  076.7 051.0         11.720870         1.428699   \n",
       "901   1960       1  076.7 055.0         12.626364         0.975751   \n",
       "902   1960       1  076.7 060.0         12.571667         1.219416   \n",
       "903   1960       1  076.7 070.0         12.238696         1.324913   \n",
       "904   1960       1  080.0 055.0         12.165185         1.178693   \n",
       "...    ...     ...          ...               ...              ...   \n",
       "1063  1960       4  093.3 060.0         15.578182         2.719904   \n",
       "1064  1960       4  093.3 070.0         14.956667         3.244577   \n",
       "1065  1960       4  093.3 080.0         15.363077         3.137306   \n",
       "1066  1960       4  093.3 090.0         16.090000         1.786869   \n",
       "1067  1960       4  093.3 100.0         15.787273         1.662402   \n",
       "\n",
       "      depth_mean  depth_std  oceanic  coastal_oceanic_fished  coastal_fished  \\\n",
       "900    40.347826  34.742702    22.00                   16.50            0.00   \n",
       "901    38.727273  34.659132   199.55                   49.12            3.07   \n",
       "902    45.638889  32.800830    13.60                    0.00            5.44   \n",
       "903    45.086957  33.267392    17.95                  129.24            0.00   \n",
       "904    42.555556  33.184025    21.28                  212.80            0.00   \n",
       "...          ...        ...      ...                     ...             ...   \n",
       "1063   49.545455  33.070723     2.98                    0.00            0.00   \n",
       "1064   46.583333  31.439576     0.00                    5.88            0.00   \n",
       "1065   43.000000  34.689095     6.16                    0.00            0.00   \n",
       "1066   45.461538  35.330854    24.84                    0.00            0.00   \n",
       "1067   54.090909  34.989869     2.92                    0.00            0.00   \n",
       "\n",
       "      coastal_bycatch  coastal_unfished   longitude   latitude  \n",
       "900             19.25               0.0 -120.941666  35.033333  \n",
       "901              9.21               0.0 -121.216666  34.908333  \n",
       "902              0.00               0.0 -121.541666  34.725000  \n",
       "903              0.00               0.0 -122.266666  34.400000  \n",
       "904              0.00               0.0 -120.800000  34.316666  \n",
       "...               ...               ...         ...        ...  \n",
       "1063             0.00               0.0 -119.508333  31.866666  \n",
       "1064             0.00               0.0 -120.483333  31.525000  \n",
       "1065             0.00               0.0 -121.083333  31.183333  \n",
       "1066             0.00               0.0 -121.683333  30.833333  \n",
       "1067             0.00               0.0 -122.316666  30.475000  \n",
       "\n",
       "[168 rows x 14 columns]"
      ]
     },
     "execution_count": 17,
     "metadata": {},
     "output_type": "execute_result"
    }
   ],
   "source": [
    "temp"
   ]
  },
  {
   "cell_type": "code",
   "execution_count": null,
   "metadata": {},
   "outputs": [],
   "source": []
  }
 ],
 "metadata": {
  "kernelspec": {
   "display_name": "Python 3",
   "language": "python",
   "name": "python3"
  },
  "language_info": {
   "codemirror_mode": {
    "name": "ipython",
    "version": 3
   },
   "file_extension": ".py",
   "mimetype": "text/x-python",
   "name": "python",
   "nbconvert_exporter": "python",
   "pygments_lexer": "ipython3",
   "version": "3.7.4"
  }
 },
 "nbformat": 4,
 "nbformat_minor": 2
}
